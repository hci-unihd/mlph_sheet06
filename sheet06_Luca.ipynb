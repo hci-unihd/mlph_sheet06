{
 "cells": [
  {
   "cell_type": "markdown",
   "metadata": {},
   "source": [
    "# Sheet 6"
   ]
  },
  {
   "cell_type": "code",
   "execution_count": null,
   "metadata": {},
   "outputs": [],
   "source": [
    "import numpy as np\n",
    "from matplotlib import pyplot as plt\n",
    "import scipy.sparse\n",
    "from sklearn.linear_model import Ridge, LinearRegression"
   ]
  },
  {
   "cell_type": "markdown",
   "metadata": {},
   "source": [
    "## 2 Estimating Parameter Relevance"
   ]
  },
  {
   "cell_type": "code",
   "execution_count": null,
   "metadata": {},
   "outputs": [],
   "source": [
    "# load the data\n",
    "with open('data/vostok.txt', 'r') as f:\n",
    "    lines = f.readlines()\n",
    "    \n",
    "# remove header and split lines\n",
    "lines = [l.split() for l in lines[2:]]\n",
    "\n",
    "# filter out lines with missing data\n",
    "lines = [l for l in lines if len(l) == 4]\n",
    "\n",
    "# convert to float\n",
    "lines = np.array(lines).astype(np.float32)\n",
    "print(f'{lines.shape=}')\n",
    "\n",
    "features = np.concatenate([lines[:, :1], lines[:, 2:]], axis=1).T\n",
    "feature_names = 'age', 'CO₂', 'dust'\n",
    "labels = lines[:, 1]\n",
    "label_name = '∆T'\n",
    "\n",
    "print(f'{features.shape=}, {labels.shape=}')"
   ]
  },
  {
   "cell_type": "code",
   "execution_count": null,
   "metadata": {},
   "outputs": [],
   "source": [
    "from sklearn.linear_model import LinearRegression\n",
    "\n",
    "# TODO: fit the linear regressor and compute the sum of square deviations"
   ]
  },
  {
   "cell_type": "code",
   "execution_count": null,
   "metadata": {},
   "outputs": [],
   "source": [
    "# TODO: for each feature, randomly permute it amongst the samples, \n",
    "#       refit the regressor and compte sum of squared deviations"
   ]
  },
  {
   "cell_type": "markdown",
   "metadata": {},
   "source": [
    "## 4 Visualize Regularization Contours"
   ]
  },
  {
   "cell_type": "code",
   "execution_count": null,
   "metadata": {},
   "outputs": [],
   "source": [
    "# load the data\n",
    "data = np.load('data/linreg.npz')\n",
    "x = data['X']\n",
    "y = data['Y']\n",
    "print(f'{x.shape} {y.shape}')"
   ]
  },
  {
   "cell_type": "code",
   "execution_count": null,
   "metadata": {},
   "outputs": [],
   "source": [
    "# TODO: create a grid of points in the parameter space"
   ]
  },
  {
   "cell_type": "markdown",
   "metadata": {},
   "source": [
    "(a)"
   ]
  },
  {
   "cell_type": "code",
   "execution_count": null,
   "metadata": {},
   "outputs": [],
   "source": [
    "# TODO: make coutour plots for ridge and lasso regularization terms\n"
   ]
  },
  {
   "cell_type": "markdown",
   "metadata": {},
   "source": [
    "(b)"
   ]
  },
  {
   "cell_type": "code",
   "execution_count": null,
   "metadata": {},
   "outputs": [],
   "source": [
    "# TODO: for each combination of parameters, compute the sum of squared deviations.\n",
    "#       do not use loops, but numpy broadcasting!\n",
    "# TODO: make a coutour plot for sum of squared deviations\n"
   ]
  },
  {
   "cell_type": "markdown",
   "metadata": {},
   "source": [
    "(c)"
   ]
  },
  {
   "cell_type": "code",
   "execution_count": null,
   "metadata": {},
   "outputs": [],
   "source": [
    "# TODO: for each lambda, plot both ridge regression and lasso loss functions\n",
    "lambdas = [0, 10, 50, 100, 200, 300]\n"
   ]
  },
  {
   "cell_type": "markdown",
   "metadata": {},
   "source": [
    "## CT"
   ]
  },
  {
   "cell_type": "markdown",
   "metadata": {},
   "source": [
    "set up design matrix (run this once to save to disk)"
   ]
  },
  {
   "cell_type": "code",
   "execution_count": null,
   "metadata": {},
   "outputs": [],
   "source": [
    "# create design matrix\n",
    "# don't change any of this, just run it once to create and save the design matrix\n",
    "import os\n",
    "\n",
    "if not os.path.exists('data/design_matrix.npy'):\n",
    "    res = (99, 117)\n",
    "    xs = np.arange(0, res[1]+1) - res[1]/2 # np.linspace(-1, 1, res[1] + 1)\n",
    "    ys = np.arange(0, res[0]+1) - res[0]/2 #np.linspace(-1, 1, res[0] + 1)\n",
    "\n",
    "    # rays are defined by origin and direction\n",
    "    n_parallel_rays = 70 \n",
    "    ray_offset_range = [-res[1]/1.5, res[1]/1.5]\n",
    "    n_ray_angles = 30\n",
    "    n_rays = n_parallel_rays * n_ray_angles\n",
    "\n",
    "    ray_angles = np.linspace(0, np.pi, n_ray_angles, endpoint=False) + np.pi/n_ray_angles\n",
    "    \n",
    "    # offsets for ray_angle = 0, i.e. parallel to x-axis\n",
    "    ray_0_offsets = np.stack([np.zeros(n_parallel_rays), np.linspace(*ray_offset_range, n_parallel_rays)], axis=-1)\n",
    "    ray_0_directions = np.stack([np.ones(n_parallel_rays), np.zeros(n_parallel_rays)], axis=-1)\n",
    "\n",
    "    def rot_mat(angle):\n",
    "        c, s = np.cos(angle), np.sin(angle)\n",
    "        return np.stack([np.stack([c, s], axis=-1), np.stack([-s, c], axis=-1)], axis=-1)\n",
    "\n",
    "    ray_rot_mats = rot_mat(ray_angles)\n",
    "\n",
    "    ray_offsets = np.einsum('oi,aij->aoj', ray_0_offsets, ray_rot_mats).reshape(-1, 2)\n",
    "    ray_directions = np.einsum('oi,aij->aoj', ray_0_directions, ray_rot_mats).reshape(-1, 2)\n",
    "\n",
    "    sigma = 1\n",
    "    kernel = lambda x: np.exp(-x**2/sigma**2/2)\n",
    "\n",
    "    xsc = (xs[1:] + xs[:-1]) / 2\n",
    "    ysc = (ys[1:] + ys[:-1]) / 2\n",
    "    b = np.stack(np.meshgrid(xsc, ysc), axis=-1).reshape(-1, 2)\n",
    "    a = ray_offsets\n",
    "    v = ray_directions\n",
    "    v = v / np.linalg.norm(v, axis=-1, keepdims=True)\n",
    "    p = ((b[None] - a[:, None]) * v[:, None]).sum(-1, keepdims=True) * v[:, None] + a[:, None]\n",
    "    d = np.linalg.norm(b - p, axis=-1)\n",
    "    d = kernel(d)\n",
    "    design_matrix = d.T\n",
    "\n",
    "    np.save('data/design_matrix.npy', design_matrix)\n",
    "    print(f'created and saved design matrix of shape {design_matrix.shape} at data/design_matrix.npy')"
   ]
  },
  {
   "cell_type": "markdown",
   "metadata": {},
   "source": [
    "(a)"
   ]
  },
  {
   "cell_type": "code",
   "execution_count": null,
   "metadata": {},
   "outputs": [],
   "source": [
    "design_matrix = np.load('data/design_matrix.npy')\n",
    "\n",
    "# TODO: visualize four random columns as images, using an image shape of (99, 117)\n",
    "img_shape = (99, 117)\n",
    "\n",
    "fig, axs = plt.subplots(1, 4, figsize=(16, 4))\n",
    "for i, ax in zip(np.random.choice(np.arange(design_matrix.shape[1]), 4), axs):\n",
    "    ax.imshow(design_matrix[:, i].reshape(*res));\n",
    "    ax.set_title(f'column {i}')"
   ]
  },
  {
   "cell_type": "code",
   "execution_count": null,
   "metadata": {},
   "outputs": [],
   "source": [
    "sino = np.load('data/sino.npy')\n",
    "\n",
    "# visualize sinogram as image\n",
    "n_parrallel_rays = 70\n",
    "n_angles = 30\n",
    "plt.imshow(sino.reshape(n_angles, n_parallel_rays), origin='lower')\n",
    "plt.show();"
   ]
  },
  {
   "cell_type": "markdown",
   "metadata": {},
   "source": [
    "(b)"
   ]
  },
  {
   "cell_type": "code",
   "execution_count": null,
   "metadata": {},
   "outputs": [],
   "source": [
    "# TODO: solve the reconstruction with linear regression and visualize the result\n"
   ]
  },
  {
   "cell_type": "code",
   "execution_count": null,
   "metadata": {},
   "outputs": [],
   "source": [
    "# TODO: solve the reconstruction with ridge regression and visualize the result\n",
    "# Optional: try out different regularization strengths and oberve the influence\n"
   ]
  }
 ],
 "metadata": {
  "kernelspec": {
   "display_name": "Python [conda env:mlph]",
   "language": "python",
   "name": "conda-env-mlph-py"
  },
  "language_info": {
   "codemirror_mode": {
    "name": "ipython",
    "version": 3
   },
   "file_extension": ".py",
   "mimetype": "text/x-python",
   "name": "python",
   "nbconvert_exporter": "python",
   "pygments_lexer": "ipython3",
   "version": "3.9.13"
  }
 },
 "nbformat": 4,
 "nbformat_minor": 2
}
